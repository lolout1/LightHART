{
 "cells": [
  {
   "cell_type": "code",
   "execution_count": 1,
   "id": "5f1acc7a",
   "metadata": {},
   "outputs": [],
   "source": [
    "import scipy \n",
    "import glob\n",
    "import numpy as np"
   ]
  },
  {
   "cell_type": "code",
   "execution_count": 24,
   "id": "c94a581f",
   "metadata": {},
   "outputs": [],
   "source": [
    "skeleton_file_path = glob.glob('data/UTD_MAAD/Skeleton/*.mat')\n",
    "inertia_file_path = glob.glob('data/UTD_MAAD/Inertial/*.mat')"
   ]
  },
  {
   "cell_type": "code",
   "execution_count": 43,
   "id": "080cc850",
   "metadata": {},
   "outputs": [],
   "source": [
    "a = skeleton_file_path[2].split('/')[-1]"
   ]
  },
  {
   "cell_type": "code",
   "execution_count": 13,
   "id": "032565a9",
   "metadata": {},
   "outputs": [],
   "source": [
    "b = a.split('_')\n",
    "c = ('').join(b[:-1])"
   ]
  },
  {
   "cell_type": "code",
   "execution_count": 50,
   "id": "e46e3e48",
   "metadata": {},
   "outputs": [],
   "source": [
    "file_map = {}\n",
    "for i in range(len(inertia_file_path)):\n",
    "    identity = inertia_file_path[i].split('/')[-1].split('_')[:-1]\n",
    "    identity = ('').join(identity)\n",
    "    file_map[identity] = i\n"
   ]
  },
  {
   "cell_type": "code",
   "execution_count": null,
   "id": "ce601c84",
   "metadata": {},
   "outputs": [],
   "source": []
  },
  {
   "cell_type": "code",
   "execution_count": 51,
   "id": "dc6f746c",
   "metadata": {},
   "outputs": [],
   "source": [
    "a = skeleton_file_path[2].split('/')[-1]\n",
    "b = a.split('_')\n",
    "c = ('').join(b[:-1])"
   ]
  },
  {
   "cell_type": "code",
   "execution_count": 53,
   "id": "c251fb67",
   "metadata": {},
   "outputs": [
    {
     "data": {
      "text/plain": [
       "115"
      ]
     },
     "execution_count": 53,
     "metadata": {},
     "output_type": "execute_result"
    }
   ],
   "source": [
    "file_map[c]"
   ]
  },
  {
   "cell_type": "code",
   "execution_count": 23,
   "id": "16371d7e",
   "metadata": {},
   "outputs": [],
   "source": [
    "a = kf.split(x)"
   ]
  },
  {
   "cell_type": "code",
   "execution_count": 25,
   "id": "ecc7f2ca",
   "metadata": {},
   "outputs": [],
   "source": [
    " next_ind = next(a)"
   ]
  },
  {
   "cell_type": "code",
   "execution_count": 31,
   "id": "cd1c3427",
   "metadata": {},
   "outputs": [],
   "source": [
    "train_index, test_index = next(a)"
   ]
  },
  {
   "cell_type": "code",
   "execution_count": 32,
   "id": "b9746fc0",
   "metadata": {},
   "outputs": [
    {
     "data": {
      "text/plain": [
       "(60,)"
      ]
     },
     "execution_count": 32,
     "metadata": {},
     "output_type": "execute_result"
    }
   ],
   "source": [
    "train_index.shape"
   ]
  },
  {
   "cell_type": "code",
   "execution_count": 7,
   "id": "d4f2d302",
   "metadata": {},
   "outputs": [
    {
     "name": "stdout",
     "output_type": "stream",
     "text": [
      "True\n",
      "Creating params....\n",
      "Initiating Model...\n",
      "ACCELERATION Only Model!\n",
      "-------------ACCELERATION-------------\n",
      "Acc Frames:  150\n",
      "Acc embed dim:  32\n",
      "Acc depth:  4\n",
      "-------------Regularization-----------\n",
      "Drop Rate:  0.0\n",
      "Attn drop rate:  0.0\n",
      "Drop path rate:  0.2\n"
     ]
    },
    {
     "data": {
      "image/png": "[encoded data removed]",
      "text/plain": [
       "<Figure size 640x480 with 2 Axes>"
      ]
     },
     "metadata": {},
     "output_type": "display_data"
    },
    {
     "name": "stdout",
     "output_type": "stream",
     "text": [
      "Val accuracy:   50.00 %, Val loss:   0.19777% , Val_teach:  0.00000%\n"
     ]
    }
   ],
   "source": [
    "import torch\n",
    "import numpy as np\n",
    "import torch.nn.functional as F\n",
    "from Make_Dataset import Poses3d_Dataset, Utd_Dataset\n",
    "import torch.nn as nn\n",
    "import PreProcessing_ncrc\n",
    "from Models.model_crossview_fusion import ActTransformerMM\n",
    "from Models.model_acc_only import ActTransformerAcc\n",
    "import numpy as np\n",
    "import matplotlib.pyplot as plt\n",
    "from sklearn.metrics import confusion_matrix\n",
    "\n",
    "\n",
    "\n",
    "use_cuda = torch.cuda.is_available()\n",
    "print(use_cuda)\n",
    "device = torch.device(\"cuda:0\" if use_cuda else \"cpu\")\n",
    "torch.backends.cudnn.benchmark = True\n",
    "\n",
    "\n",
    "\n",
    "# Parameters\n",
    "print(\"Creating params....\")\n",
    "params = {'batch_size':8,\n",
    "          'shuffle': True,\n",
    "          'num_workers': 0}\n",
    "\n",
    "# Generators\n",
    "#pose2id,labels,partition = PreProcessing_ncrc_losocv.preprocess_losocv(8)\n",
    "\n",
    "\n",
    "dataset = 'utd'\n",
    "mocap_frames = 100\n",
    "acc_frames = 150\n",
    "num_joints = 20\n",
    "num_classes = 27\n",
    "\n",
    "if dataset == 'ncrc':\n",
    "    tr_pose2id,tr_labels,valid_pose2id,valid_labels,pose2id,labels,partition = PreProcessing_ncrc.preprocess()\n",
    "    training_set = Poses3d_Dataset( data='ncrc',list_IDs=partition['train'], labels=tr_labels, pose2id=tr_pose2id, mocap_frames=mocap_frames, acc_frames=acc_frames, normalize=False)\n",
    "    training_generator = torch.utils.data.DataLoader(training_set, **params) #Each produced sample is  200 x 59 x 3\n",
    "\n",
    "    validation_set = Poses3d_Dataset(data='ncrc',list_IDs=partition['valid'], labels=valid_labels, pose2id=valid_pose2id, mocap_frames=mocap_frames, acc_frames=acc_frames ,normalize=False)\n",
    "    validation_generator = torch.utils.data.DataLoader(validation_set, **params) #Each produced sample is 6000 x 229 x 3\n",
    "\n",
    "    test_set = Poses3d_Dataset(data='ncrc',list_IDs=partition['test'], labels=labels, pose2id=pose2id, mocap_frames=mocap_frames, acc_frames=acc_frames ,normalize=False)\n",
    "    test_generator = torch.utils.data.DataLoader(test_set, **params) #Each produced sample is 6000 x 229 x 3    \n",
    "else:\n",
    "\n",
    "    test_set = Utd_Dataset('/home/bgu9/Fall_Detection_KD_Multimodal/data/UTD_MAAD/valid_data.npz')\n",
    "    test_generator = torch.utils.data.DataLoader(test_set, **params)\n",
    "\n",
    "\n",
    "#\n",
    "#Define model\n",
    "print(\"Initiating Model...\")\n",
    "\n",
    "student_model = ActTransformerAcc(device = device, acc_frames=150, num_joints=num_joints, in_chans=3, acc_coords=3,\n",
    "                                  acc_features=1, has_features=False,num_classes=num_classes)\n",
    "student_model.load_state_dict(torch.load('/home/bgu9/Fall_Detection_KD_Multimodal/exps/utd/utd_utd_ckpt_wdistance.pt'))\n",
    "student_model.cuda()\n",
    "\n",
    "student_model.eval()\n",
    "y_true = []\n",
    "y_pred = []\n",
    "val_loss = 0\n",
    "val_accuracy = 0\n",
    "val_t_accuracy = 0\n",
    "cnt = 0.\n",
    "student_model=student_model.to(device)\n",
    "with torch.no_grad():\n",
    "    for inputs,targets in test_generator:\n",
    "        y_true.extend(targets.numpy().tolist())\n",
    "        inputs = inputs.to(device); #print(\"Validation input: \",inputs)\n",
    "        targets = targets.to(device)\n",
    "        \n",
    "        \n",
    "        out, student_logits,predictions = student_model(inputs.float())\n",
    "        loss_score = F.cross_entropy(predictions, targets)\n",
    "        y_pred.extend(torch.argmax(predictions, 1).cpu().numpy().tolist())\n",
    "        with torch.no_grad():\n",
    "            val_loss += loss_score.sum().item()\n",
    "            val_accuracy += (torch.argmax(predictions, 1) == targets).sum().item()\n",
    "\n",
    "        cnt += len(targets)\n",
    "    val_loss /= cnt\n",
    "    val_accuracy *= 100. / cnt\n",
    "\n",
    "\n",
    "# compute the confusion matrix\n",
    "cm = confusion_matrix(y_true, y_pred)\n",
    "\n",
    "# plot the confusion matrix\n",
    "plt.imshow(cm, interpolation='nearest', cmap=plt.cm.Blues)\n",
    "plt.colorbar()\n",
    "plt.xticks(np.arange(6))\n",
    "plt.yticks(np.arange(6))\n",
    "plt.xlabel(\"Predicted label\")\n",
    "plt.ylabel(\"True label\")\n",
    "plt.title(\"Confusion Matrix\")\n",
    "plt.show()\n",
    "print(f\"Val accuracy:  {val_accuracy:6.2f} %, Val loss:  {val_loss:8.5f}% , Val_teach: {val_t_accuracy:8.5f}%\")"
   ]
  },
  {
   "cell_type": "code",
   "execution_count": null,
   "id": "30c99782",
   "metadata": {},
   "outputs": [],
   "source": []
  }
 ],
 "metadata": {
  "kernelspec": {
   "display_name": "Python 3 (ipykernel)",
   "language": "python",
   "name": "python3"
  },
  "language_info": {
   "codemirror_mode": {
    "name": "ipython",
    "version": 3
   },
   "file_extension": ".py",
   "mimetype": "text/x-python",
   "name": "python",
   "nbconvert_exporter": "python",
   "pygments_lexer": "ipython3",
   "version": "3.8.16"
  }
 },
 "nbformat": 4,
 "nbformat_minor": 5
}
