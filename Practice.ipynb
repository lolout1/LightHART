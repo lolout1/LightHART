{
 "cells": [
  {
   "cell_type": "code",
   "execution_count": 238,
   "id": "16f1ee1a",
   "metadata": {},
   "outputs": [],
   "source": [
    "import scipy.io\n",
    "import glob\n",
    "import torch \n",
    "import numpy as np\n",
    "import torch \n",
    "import re\n",
    "import shutil\n",
    "import os"
   ]
  },
  {
   "cell_type": "code",
   "execution_count": 239,
   "id": "863034f1",
   "metadata": {},
   "outputs": [],
   "source": [
    "skeleton_file_path = glob.glob('Datasets/UTD_MHAD_random_split/test_skeleton/*.mat')\n",
    "inertia_file_path = glob.glob('Datasets/UTD_MHAD_random_split/test_inertial/*.mat')"
   ]
  },
  {
   "cell_type": "code",
   "execution_count": 241,
   "id": "3f758b16",
   "metadata": {},
   "outputs": [
    {
     "data": {
      "text/plain": [
       "109"
      ]
     },
     "execution_count": 241,
     "metadata": {},
     "output_type": "execute_result"
    }
   ],
   "source": [
    "len(skeleton_file_path)"
   ]
  },
  {
   "cell_type": "code",
   "execution_count": 242,
   "id": "a977e48d",
   "metadata": {},
   "outputs": [],
   "source": [
    "file_map = {}\n",
    "for i in range(len(inertia_file_path)):\n",
    "    identity = inertia_file_path[i].split('/')[-1].split('_')[:-1]\n",
    "    identity = ('').join(identity)\n",
    "    file_map[identity] = i\n"
   ]
  },
  {
   "cell_type": "code",
   "execution_count": 243,
   "id": "d964f4c7",
   "metadata": {},
   "outputs": [],
   "source": [
    "def get_unique_id(file_path):\n",
    "    file_name = file_path.split('/')[-1]\n",
    "    splited_array = file_name.split('_')\n",
    "    u_id = ('').join(splited_array[:-1])\n",
    "    act_id = splited_array[0]\n",
    "    return u_id,act_id"
   ]
  },
  {
   "cell_type": "code",
   "execution_count": 244,
   "id": "f5ccb8ed",
   "metadata": {},
   "outputs": [],
   "source": [
    "frames = 100\n",
    "num_joints = 20\n",
    "acc_frames = 150\n",
    "channels = 3\n",
    "dataset = np.zeros((len(skeleton_file_path), frames , num_joints + acc_frames, channels))\n",
    "labels = np.zeros(len(skeleton_file_path))\n",
    "for ind in range(len(skeleton_file_path)):\n",
    "\n",
    "    skeleton_data = scipy.io.loadmat(skeleton_file_path[ind])['d_skel']\n",
    "\n",
    "    #calculate the max and min along each direction \n",
    "    \n",
    "\n",
    "    u_id, act_id = get_unique_id(skeleton_file_path[ind])\n",
    "    row, column, chanel = skeleton_data.shape\n",
    "    new_x = np.linspace(0, chanel, frames)\n",
    "    interpolated_skel = np.zeros((frames,row, column))\n",
    "    x_coords = np.arange(chanel)\n",
    "    inertial_file_index = file_map[u_id]\n",
    "    \n",
    "#     try:\n",
    "#         inertial_file_index = file_map[u_id]\n",
    "#         print(skeleton_file_path[ind])\n",
    "        \n",
    "#     except: \n",
    "#         os.remove(skeleton_file_path[ind])\n",
    "#         continue\n",
    "        \n",
    "    for i in range(row):\n",
    "        for j in range(column):\n",
    "            data = skeleton_data[i, j, :]\n",
    "            new_data = np.interp(new_x,x_coords,data)\n",
    "            interpolated_skel[:,i, j] = new_data\n",
    "            \n",
    "\n",
    "    \n",
    "\n",
    "    inertia_data = scipy.io.loadmat(inertia_file_path[inertial_file_index])['d_iner']\n",
    "    inr_r, inr_c = inertia_data[:, :3].shape\n",
    "\n",
    "    new_inr_x = np.linspace(0, inr_r, acc_frames)\n",
    "    old_x = np.arange(inr_r)\n",
    "    interpolated_inr = np.zeros((acc_frames, inr_c))\n",
    "    \n",
    "    #interpolating every column\n",
    "    for j in range(inr_c):\n",
    "            data = inertia_data[:, j]\n",
    "            interpolated_inr[:, j] = np.interp(new_inr_x, old_x, data)\n",
    "    \n",
    "    acc_ext = np.zeros((frames, acc_frames, column))\n",
    "    acc_ext[0, : , :] = interpolated_inr\n",
    "    \n",
    "    merged = np.concatenate((interpolated_skel,acc_ext,), axis= 1)\n",
    "    dataset[ind,:,:,:] = merged\n",
    "    match = re.search(r'\\d+', act_id)\n",
    "    labels[ind] = int(match.group())\n",
    "    "
   ]
  },
  {
   "cell_type": "code",
   "execution_count": 245,
   "id": "a43ad8cf",
   "metadata": {},
   "outputs": [],
   "source": [
    "np.savez('randtest_data.npz', data=dataset, labels=labels)"
   ]
  },
  {
   "cell_type": "code",
   "execution_count": 196,
   "id": "d63b9d89",
   "metadata": {},
   "outputs": [
    {
     "data": {
      "text/plain": [
       "(643, 100, 170, 3)"
      ]
     },
     "execution_count": 196,
     "metadata": {},
     "output_type": "execute_result"
    }
   ],
   "source": [
    "dataset.shape"
   ]
  },
  {
   "cell_type": "code",
   "execution_count": 38,
   "id": "39dc05a5",
   "metadata": {},
   "outputs": [],
   "source": [
    "skeleton_file_path = glob.glob('Datasets/UTD_MAAD/Inertial/*s3*.mat')"
   ]
  },
  {
   "cell_type": "code",
   "execution_count": 39,
   "id": "76469e38",
   "metadata": {},
   "outputs": [],
   "source": [
    "destination_folder = 'Datasets/UTD_MAAD/test_inertial/'"
   ]
  },
  {
   "cell_type": "code",
   "execution_count": 189,
   "id": "890b34fb",
   "metadata": {},
   "outputs": [],
   "source": [
    "training_set = Utd_Dataset('Datasets/UTD_MAAD/train_data.npz')\n",
    "training_generator = torch.utils.data.DataLoader(training_set, **params) #Each produced sample is  200 x 59 x 3"
   ]
  },
  {
   "cell_type": "code",
   "execution_count": 180,
   "id": "7b4d0485",
   "metadata": {},
   "outputs": [],
   "source": [
    "\n",
    "import random"
   ]
  },
  {
   "cell_type": "code",
   "execution_count": 181,
   "id": "d6dfcc85",
   "metadata": {},
   "outputs": [],
   "source": [
    "inertial_paths = glob.glob('Datasets/UTD_MHAD_random_split/train_inertial/**')\n",
    "skeletal_paths = glob.glob('Datasets/UTD_MHAD_random_split/train_skeleton/**')"
   ]
  },
  {
   "cell_type": "code",
   "execution_count": 182,
   "id": "11dd172e",
   "metadata": {},
   "outputs": [],
   "source": [
    "rand_num = random.sample(range(len(inertial_paths)), 109)"
   ]
  },
  {
   "cell_type": "code",
   "execution_count": 183,
   "id": "8309266c",
   "metadata": {},
   "outputs": [],
   "source": [
    "if os.path.isdir('Datasets/UTD_MHAD_random_split/test_inertial') != True: \n",
    "    os.mkdir('Datasets/UTD_MHAD_random_split/test_inertial')\n",
    "if os.path.isdir('Datasets/UTD_MHAD_random_split/test_skeleton') != True:\n",
    "    os.mkdir('Datasets/UTD_MHAD_random_split/test_skeleton')\n",
    "    \n",
    "for i in rand_num:\n",
    "    inertial_path = inertial_paths[i]\n",
    "    name = '_'.join(inertial_path.split('/')[-1].split('_')[:-1])\n",
    "    skeleton_path = 'Datasets/UTD_MHAD_random_split/train_skeleton/'+name+'_'+'skeleton.mat'\n",
    "    shutil.move(inertial_paths[i], 'Datasets/UTD_MHAD_random_split/test_inertial')    \n",
    "    shutil.move(skeleton_path, 'Datasets/UTD_MHAD_random_split/test_skeleton')\n",
    "    "
   ]
  },
  {
   "cell_type": "code",
   "execution_count": 72,
   "id": "f481e4a8",
   "metadata": {},
   "outputs": [],
   "source": [
    "inertial_file_path = sorted(inertial_paths)\n",
    "skeletal_paths = sorted(skeletal_paths)"
   ]
  },
  {
   "cell_type": "code",
   "execution_count": 83,
   "id": "a08a8552",
   "metadata": {},
   "outputs": [],
   "source": [
    "a = inertial_file_path[1]"
   ]
  },
  {
   "cell_type": "code",
   "execution_count": 85,
   "id": "41a428c6",
   "metadata": {},
   "outputs": [
    {
     "data": {
      "text/plain": [
       "'a10_s1_t2_skeleton.mat'"
      ]
     },
     "execution_count": 85,
     "metadata": {},
     "output_type": "execute_result"
    }
   ],
   "source": [
    "'_'.join(a.split('/')[-1].split('_')[:-1]) +'_'+'skeleton.mat'"
   ]
  },
  {
   "cell_type": "code",
   "execution_count": 50,
   "id": "2a416633",
   "metadata": {},
   "outputs": [
    {
     "data": {
      "text/plain": [
       "109.8"
      ]
     },
     "execution_count": 50,
     "metadata": {},
     "output_type": "execute_result"
    }
   ],
   "source": [
    "732*.15"
   ]
  },
  {
   "cell_type": "code",
   "execution_count": null,
   "id": "5e46dfec",
   "metadata": {},
   "outputs": [],
   "source": []
  }
 ],
 "metadata": {
  "kernelspec": {
   "display_name": "Python 3 (ipykernel)",
   "language": "python",
   "name": "python3"
  },
  "language_info": {
   "codemirror_mode": {
    "name": "ipython",
    "version": 3
   },
   "file_extension": ".py",
   "mimetype": "text/x-python",
   "name": "python",
   "nbconvert_exporter": "python",
   "pygments_lexer": "ipython3",
   "version": "3.9.6"
  }
 },
 "nbformat": 4,
 "nbformat_minor": 5
}
