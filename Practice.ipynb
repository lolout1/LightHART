{
 "cells": [
  {
   "cell_type": "code",
   "execution_count": 1,
   "id": "5f1acc7a",
   "metadata": {},
   "outputs": [],
   "source": [
    "import scipy \n",
    "import glob\n",
    "import numpy as np"
   ]
  },
  {
   "cell_type": "code",
   "execution_count": 24,
   "id": "c94a581f",
   "metadata": {},
   "outputs": [],
   "source": [
    "skeleton_file_path = glob.glob('data/UTD_MAAD/Skeleton/*.mat')\n",
    "inertia_file_path = glob.glob('data/UTD_MAAD/Inertial/*.mat')"
   ]
  },
  {
   "cell_type": "code",
   "execution_count": 43,
   "id": "080cc850",
   "metadata": {},
   "outputs": [],
   "source": [
    "a = skeleton_file_path[2].split('/')[-1]"
   ]
  },
  {
   "cell_type": "code",
   "execution_count": 13,
   "id": "032565a9",
   "metadata": {},
   "outputs": [],
   "source": [
    "b = a.split('_')\n",
    "c = ('').join(b[:-1])"
   ]
  },
  {
   "cell_type": "code",
   "execution_count": 50,
   "id": "e46e3e48",
   "metadata": {},
   "outputs": [],
   "source": [
    "file_map = {}\n",
    "for i in range(len(inertia_file_path)):\n",
    "    identity = inertia_file_path[i].split('/')[-1].split('_')[:-1]\n",
    "    identity = ('').join(identity)\n",
    "    file_map[identity] = i\n"
   ]
  },
  {
   "cell_type": "code",
   "execution_count": 51,
   "id": "dc6f746c",
   "metadata": {},
   "outputs": [],
   "source": [
    "a = skeleton_file_path[2].split('/')[-1]\n",
    "b = a.split('_')\n",
    "c = ('').join(b[:-1])"
   ]
  },
  {
   "cell_type": "code",
   "execution_count": 53,
   "id": "c251fb67",
   "metadata": {},
   "outputs": [
    {
     "data": {
      "text/plain": [
       "115"
      ]
     },
     "execution_count": 53,
     "metadata": {},
     "output_type": "execute_result"
    }
   ],
   "source": [
    "file_map[c]"
   ]
  },
  {
   "cell_type": "code",
   "execution_count": 23,
   "id": "16371d7e",
   "metadata": {},
   "outputs": [],
   "source": [
    "a = kf.split(x)"
   ]
  },
  {
   "cell_type": "code",
   "execution_count": 25,
   "id": "ecc7f2ca",
   "metadata": {},
   "outputs": [],
   "source": [
    " next_ind = next(a)"
   ]
  },
  {
   "cell_type": "code",
   "execution_count": 31,
   "id": "cd1c3427",
   "metadata": {},
   "outputs": [],
   "source": [
    "train_index, test_index = next(a)"
   ]
  },
  {
   "cell_type": "code",
   "execution_count": 32,
   "id": "b9746fc0",
   "metadata": {},
   "outputs": [
    {
     "data": {
      "text/plain": [
       "(60,)"
      ]
     },
     "execution_count": 32,
     "metadata": {},
     "output_type": "execute_result"
    }
   ],
   "source": [
    "train_index.shape"
   ]
  },
  {
   "cell_type": "code",
   "execution_count": null,
   "id": "d4f2d302",
   "metadata": {},
   "outputs": [],
   "source": []
  }
 ],
 "metadata": {
  "kernelspec": {
   "display_name": "Python 3 (ipykernel)",
   "language": "python",
   "name": "python3"
  },
  "language_info": {
   "codemirror_mode": {
    "name": "ipython",
    "version": 3
   },
   "file_extension": ".py",
   "mimetype": "text/x-python",
   "name": "python",
   "nbconvert_exporter": "python",
   "pygments_lexer": "ipython3",
   "version": "3.8.16"
  }
 },
 "nbformat": 4,
 "nbformat_minor": 5
}
