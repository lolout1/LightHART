{
 "cells": [
  {
   "cell_type": "markdown",
   "id": "29b46291",
   "metadata": {},
   "source": [
    "## Imports"
   ]
  },
  {
   "cell_type": "code",
   "execution_count": 1,
   "id": "5f1acc7a",
   "metadata": {},
   "outputs": [],
   "source": [
    "import scipy \n",
    "from scipy.io import loadmat\n",
    "import glob\n",
    "import numpy as np\n",
    "import pandas as pd\n",
    "import matplotlib.pyplot as plt \n",
    "import re\n",
    "import torch\n",
    "import torch.nn.functional as F\n",
    "# from bvh import Bvh\n",
    "from sklearn.preprocessing import StandardScaler\n"
   ]
  },
  {
   "cell_type": "code",
   "execution_count": 3,
   "id": "d3566a06",
   "metadata": {},
   "outputs": [
    {
     "name": "stdout",
     "output_type": "stream",
     "text": [
      "/home/bgu9/Fall_Detection_KD_Multimodal/data/UTD_MAAD\n"
     ]
    }
   ],
   "source": [
    "cd data/UTD_MAAD/"
   ]
  },
  {
   "cell_type": "code",
   "execution_count": 6,
   "id": "1d31632f",
   "metadata": {},
   "outputs": [
    {
     "name": "stdout",
     "output_type": "stream",
     "text": [
      "/home/bgu9/Fall_Detection_KD_Multimodal\n"
     ]
    }
   ],
   "source": [
    "cd .."
   ]
  },
  {
   "cell_type": "code",
   "execution_count": 24,
   "id": "c94a581f",
   "metadata": {},
   "outputs": [],
   "source": [
    "skeleton_file_path = glob.glob('data/UTD_MAAD/Skeleton/*.mat')\n",
    "inertia_file_path = glob.glob('data/UTD_MAAD/Inertial/*.mat')"
   ]
  },
  {
   "cell_type": "code",
   "execution_count": 43,
   "id": "080cc850",
   "metadata": {},
   "outputs": [],
   "source": [
    "a = skeleton_file_path[2].split('/')[-1]"
   ]
  },
  {
   "cell_type": "code",
   "execution_count": 13,
   "id": "032565a9",
   "metadata": {},
   "outputs": [],
   "source": [
    "b = a.split('_')\n",
    "c = ('').join(b[:-1])"
   ]
  },
  {
   "cell_type": "code",
   "execution_count": 50,
   "id": "e46e3e48",
   "metadata": {},
   "outputs": [],
   "source": [
    "file_map = {}\n",
    "for i in range(len(inertia_file_path)):\n",
    "    identity = inertia_file_path[i].split('/')[-1].split('_')[:-1]\n",
    "    identity = ('').join(identity)\n",
    "    file_map[identity] = i\n"
   ]
  },
  {
   "cell_type": "code",
   "execution_count": null,
   "id": "ce601c84",
   "metadata": {},
   "outputs": [],
   "source": []
  },
  {
   "cell_type": "code",
   "execution_count": 51,
   "id": "dc6f746c",
   "metadata": {},
   "outputs": [],
   "source": [
    "a = skeleton_file_path[2].split('/')[-1]\n",
    "b = a.split('_')\n",
    "c = ('').join(b[:-1])"
   ]
  },
  {
   "cell_type": "code",
   "execution_count": 53,
   "id": "c251fb67",
   "metadata": {},
   "outputs": [
    {
     "data": {
      "text/plain": [
       "115"
      ]
     },
     "execution_count": 53,
     "metadata": {},
     "output_type": "execute_result"
    }
   ],
   "source": [
    "file_map[c]"
   ]
  },
  {
   "cell_type": "code",
   "execution_count": 23,
   "id": "16371d7e",
   "metadata": {},
   "outputs": [],
   "source": [
    "a = kf.split(x)"
   ]
  },
  {
   "cell_type": "code",
   "execution_count": 25,
   "id": "ecc7f2ca",
   "metadata": {},
   "outputs": [],
   "source": [
    " next_ind = next(a)"
   ]
  },
  {
   "cell_type": "code",
   "execution_count": 31,
   "id": "cd1c3427",
   "metadata": {},
   "outputs": [],
   "source": [
    "train_index, test_index = next(a)"
   ]
  },
  {
   "cell_type": "code",
   "execution_count": 4,
   "id": "7480b19b",
   "metadata": {},
   "outputs": [],
   "source": [
    "# converting bvh to array \n",
    "def bvh2arr(file_path):\n",
    "    with open(file = file_path, mode='r') as f: \n",
    "        bvh_data = Bvh(f.read())\n",
    "        data = bvh_data.frames\n",
    "        arr = np.array(data).astype(float)\n",
    "    return arr        "
   ]
  },
  {
   "cell_type": "code",
   "execution_count": 5,
   "id": "d13c6fdc",
   "metadata": {},
   "outputs": [],
   "source": [
    "# interpolating skeleton\n",
    "def interpolate(data, new_len):\n",
    "    rows, cols = data.shape\n",
    "    interp_data = np.zeros((new_len, cols))\n",
    "    \n",
    "    #x space\n",
    "    x = np.linspace(0, rows, num=new_len)\n",
    "    xp = np.linspace(0, rows, num = rows)\n",
    "    \n",
    "    for i in range(cols):\n",
    "        yp = data[:, i]\n",
    "        interp_col = np.interp(x, xp, yp)\n",
    "        interp_data[:,i] = interp_col\n",
    "    return interp_data"
   ]
  },
  {
   "cell_type": "markdown",
   "id": "b3aa91a1",
   "metadata": {},
   "source": [
    "### UTD MHAD Processing"
   ]
  },
  {
   "cell_type": "code",
   "execution_count": 2,
   "id": "5bcafd1a",
   "metadata": {},
   "outputs": [],
   "source": [
    "train_skl_file_path = glob.glob('data/UTD_MAAD/train_skeleton/*.mat')\n"
   ]
  },
  {
   "cell_type": "code",
   "execution_count": 28,
   "id": "758cb925",
   "metadata": {},
   "outputs": [
    {
     "data": {
      "text/plain": [
       "(209, 6)"
      ]
     },
     "execution_count": 28,
     "metadata": {},
     "output_type": "execute_result"
    }
   ],
   "source": [
    "data.shape"
   ]
  },
  {
   "cell_type": "code",
   "execution_count": 19,
   "id": "373f4352",
   "metadata": {},
   "outputs": [
    {
     "data": {
      "text/plain": [
       "(20, 3, 67)"
      ]
     },
     "execution_count": 19,
     "metadata": {},
     "output_type": "execute_result"
    }
   ],
   "source": [
    "data['d_skel'].shape"
   ]
  },
  {
   "cell_type": "code",
   "execution_count": 17,
   "id": "88d7349c",
   "metadata": {},
   "outputs": [],
   "source": [
    "file_paths = glob.glob('data/UTD_MAAD/valid_inertial/*.mat')\n",
    "skl_path  = '/home/bgu9/Fall_Detection_KD_Multimodal/data/UTD_MAAD/valid_skeleton/'\n",
    "act_pattern = r'(a\\d+)'\n",
    "pattern = r'a\\d+_s\\d+_t\\d+'\n",
    "label_pattern = r'\\d+'\n",
    "\n",
    "\n",
    "new_skl_len = 100\n",
    "new_acc_len = 100\n",
    "skl_joints = 20\n",
    "skl_channel = 3\n",
    "\n",
    "samples = len(file_paths) \n",
    "skl_dataset = np.zeros((samples, new_skl_len,skl_joints,skl_channel))\n",
    "acc_dataset = np.zeros((samples, new_acc_len, skl_channel))\n",
    "labels = np.zeros((samples))\n",
    "\n",
    "for idx,path in enumerate(file_paths):\n",
    "    \n",
    "    #loadding numpy data from csv \n",
    "    data = loadmat(path)['d_iner'] #[time_stamps, channels]\n",
    "    if np.size(data) == 0 :\n",
    "        continue\n",
    "    #taking the accelerometer data\n",
    "#     print(acc_data.shape)\n",
    "    acc_data = data[:, :3] \n",
    "    act_len = acc_data.shape[0] # time_stamps\n",
    "    channel = acc_data.shape[1] # channels\n",
    "    label_string = re.findall(act_pattern, path)[0] #label\n",
    "    label = int(re.findall(label_pattern, label_string)[0]) -1\n",
    "    \n",
    "    \n",
    "    #interpolation \n",
    "    x = np.linspace(1, act_len, num=new_acc_len)\n",
    "    xp = np.linspace(1, act_len, num= act_len)\n",
    "    interpolated_data = np.zeros((new_acc_len,channel))\n",
    "    \n",
    "    for i in range(channel):\n",
    "        yp = acc_data[:, i]\n",
    "        axis_interpolated = np.interp(x, xp, yp)\n",
    "#         mean = np.mean(axis_interpolated)\n",
    "#         std = np.std(axis_interpolated)\n",
    "#         normalized = axis_interpolated - mean / std\n",
    "        interpolated_data[:, i] = axis_interpolated\n",
    "        \n",
    "#     scaler.fit(interpolated_data)\n",
    "#     normalized = scaler.transform(interpolated_data)\n",
    "    \n",
    "    ## Skeleton data loading\n",
    "    desp = re.findall(pattern, file_paths[idx])[0]\n",
    "    skl_file = skl_path+desp+'_skeleton.mat'\n",
    "    skl_data = loadmat(skl_file)['d_skel']\n",
    "    skl_len = skl_data.shape[2]\n",
    "    skl_data = skl_data.reshape((skl_len, -1))\n",
    "    interp_skl = interpolate(skl_data, new_len = new_skl_len).reshape((new_skl_len, skl_joints,-1))\n",
    "    \n",
    "    #storing data\n",
    "    labels[idx] = label\n",
    "    skl_dataset[idx, :, :, :] = interp_skl\n",
    "    acc_dataset[idx, :, :] = interpolated_data\n",
    "\n",
    "        "
   ]
  },
  {
   "cell_type": "code",
   "execution_count": 21,
   "id": "fa1d3b1b",
   "metadata": {},
   "outputs": [
    {
     "data": {
      "text/plain": [
       "(100, 20, 3)"
      ]
     },
     "execution_count": 21,
     "metadata": {},
     "output_type": "execute_result"
    }
   ],
   "source": [
    "skl_dataset[1].shape"
   ]
  },
  {
   "cell_type": "code",
   "execution_count": 16,
   "id": "9c45e275",
   "metadata": {},
   "outputs": [],
   "source": [
    "np.savez('utd_train100', acc_data = acc_dataset, skl_data = skl_dataset, labels = labels)"
   ]
  },
  {
   "cell_type": "code",
   "execution_count": 15,
   "id": "45b79c46",
   "metadata": {},
   "outputs": [
    {
     "data": {
      "text/plain": [
       "26.0"
      ]
     },
     "execution_count": 15,
     "metadata": {},
     "output_type": "execute_result"
    }
   ],
   "source": [
    "max(labels)"
   ]
  },
  {
   "cell_type": "code",
   "execution_count": 8,
   "id": "e750a671",
   "metadata": {},
   "outputs": [
    {
     "data": {
      "text/plain": [
       "['a8_s8_t4']"
      ]
     },
     "execution_count": 8,
     "metadata": {},
     "output_type": "execute_result"
    }
   ],
   "source": [
    "re.findall(pattern, train_inr_file_path[1] )"
   ]
  },
  {
   "cell_type": "code",
   "execution_count": 9,
   "id": "d42a3c43",
   "metadata": {},
   "outputs": [
    {
     "data": {
      "text/plain": [
       "(645, 100, 3)"
      ]
     },
     "execution_count": 9,
     "metadata": {},
     "output_type": "execute_result"
    }
   ],
   "source": [
    "acc_dataset.shape"
   ]
  },
  {
   "cell_type": "code",
   "execution_count": 10,
   "id": "e8a70e1c",
   "metadata": {},
   "outputs": [
    {
     "data": {
      "text/plain": [
       "'data/UTD_MAAD/train_skeleton/a11_s6_t4_skeleton.mat'"
      ]
     },
     "execution_count": 10,
     "metadata": {},
     "output_type": "execute_result"
    }
   ],
   "source": [
    "train_skl_file_path[1]"
   ]
  },
  {
   "cell_type": "code",
   "execution_count": 7,
   "id": "d4f2d302",
   "metadata": {},
   "outputs": [
    {
     "name": "stdout",
     "output_type": "stream",
     "text": [
      "True\n",
      "Creating params....\n",
      "Initiating Model...\n",
      "ACCELERATION Only Model!\n",
      "-------------ACCELERATION-------------\n",
      "Acc Frames:  150\n",
      "Acc embed dim:  32\n",
      "Acc depth:  4\n",
      "-------------Regularization-----------\n",
      "Drop Rate:  0.0\n",
      "Attn drop rate:  0.0\n",
      "Drop path rate:  0.2\n"
     ]
    },
    {
     "data": {
      "image/png": "[encoded data removed]",
      "text/plain": [
       "<Figure size 640x480 with 2 Axes>"
      ]
     },
     "metadata": {},
     "output_type": "display_data"
    },
    {
     "name": "stdout",
     "output_type": "stream",
     "text": [
      "Val accuracy:   50.00 %, Val loss:   0.19777% , Val_teach:  0.00000%\n"
     ]
    }
   ],
   "source": [
    "import torch\n",
    "import numpy as np\n",
    "import torch.nn.functional as F\n",
    "from Make_Dataset import Poses3d_Dataset, Utd_Dataset\n",
    "import torch.nn as nn\n",
    "import PreProcessing_ncrc\n",
    "from Models.model_crossview_fusion import ActTransformerMM\n",
    "from Models.model_acc_only import ActTransformerAcc\n",
    "import numpy as np\n",
    "import matplotlib.pyplot as plt\n",
    "from sklearn.metrics import confusion_matrix\n",
    "\n",
    "\n",
    "\n",
    "use_cuda = torch.cuda.is_available()\n",
    "print(use_cuda)\n",
    "device = torch.device(\"cuda:0\" if use_cuda else \"cpu\")\n",
    "torch.backends.cudnn.benchmark = True\n",
    "\n",
    "\n",
    "\n",
    "# Parameters\n",
    "print(\"Creating params....\")\n",
    "params = {'batch_size':8,\n",
    "          'shuffle': True,\n",
    "          'num_workers': 0}\n",
    "\n",
    "# Generators\n",
    "#pose2id,labels,partition = PreProcessing_ncrc_losocv.preprocess_losocv(8)\n",
    "\n",
    "\n",
    "dataset = 'utd'\n",
    "mocap_frames = 100\n",
    "acc_frames = 150\n",
    "num_joints = 20\n",
    "num_classes = 27\n",
    "\n",
    "if dataset == 'ncrc':\n",
    "    tr_pose2id,tr_labels,valid_pose2id,valid_labels,pose2id,labels,partition = PreProcessing_ncrc.preprocess()\n",
    "    training_set = Poses3d_Dataset( data='ncrc',list_IDs=partition['train'], labels=tr_labels, pose2id=tr_pose2id, mocap_frames=mocap_frames, acc_frames=acc_frames, normalize=False)\n",
    "    training_generator = torch.utils.data.DataLoader(training_set, **params) #Each produced sample is  200 x 59 x 3\n",
    "\n",
    "    validation_set = Poses3d_Dataset(data='ncrc',list_IDs=partition['valid'], labels=valid_labels, pose2id=valid_pose2id, mocap_frames=mocap_frames, acc_frames=acc_frames ,normalize=False)\n",
    "    validation_generator = torch.utils.data.DataLoader(validation_set, **params) #Each produced sample is 6000 x 229 x 3\n",
    "\n",
    "    test_set = Poses3d_Dataset(data='ncrc',list_IDs=partition['test'], labels=labels, pose2id=pose2id, mocap_frames=mocap_frames, acc_frames=acc_frames ,normalize=False)\n",
    "    test_generator = torch.utils.data.DataLoader(test_set, **params) #Each produced sample is 6000 x 229 x 3    \n",
    "else:\n",
    "\n",
    "    test_set = Utd_Dataset('/home/bgu9/Fall_Detection_KD_Multimodal/data/UTD_MAAD/valid_data.npz')\n",
    "    test_generator = torch.utils.data.DataLoader(test_set, **params)\n",
    "\n",
    "\n",
    "#\n",
    "#Define model\n",
    "print(\"Initiating Model...\")\n",
    "\n",
    "student_model = ActTransformerAcc(device = device, acc_frames=150, num_joints=num_joints, in_chans=3, acc_coords=3,\n",
    "                                  acc_features=1, has_features=False,num_classes=num_classes)\n",
    "student_model.load_state_dict(torch.load('/home/bgu9/Fall_Detection_KD_Multimodal/exps/utd/utd_utd_ckpt_wdistance.pt'))\n",
    "student_model.cuda()\n",
    "\n",
    "student_model.eval()\n",
    "y_true = []\n",
    "y_pred = []\n",
    "val_loss = 0\n",
    "val_accuracy = 0\n",
    "val_t_accuracy = 0\n",
    "cnt = 0.\n",
    "student_model=student_model.to(device)\n",
    "with torch.no_grad():\n",
    "    for inputs,targets in test_generator:\n",
    "        y_true.extend(targets.numpy().tolist())\n",
    "        inputs = inputs.to(device); #print(\"Validation input: \",inputs)\n",
    "        targets = targets.to(device)\n",
    "        \n",
    "        \n",
    "        out, student_logits,predictions = student_model(inputs.float())\n",
    "        loss_score = F.cross_entropy(predictions, targets)\n",
    "        y_pred.extend(torch.argmax(predictions, 1).cpu().numpy().tolist())\n",
    "        with torch.no_grad():\n",
    "            val_loss += loss_score.sum().item()\n",
    "            val_accuracy += (torch.argmax(predictions, 1) == targets).sum().item()\n",
    "\n",
    "        cnt += len(targets)\n",
    "    val_loss /= cnt\n",
    "    val_accuracy *= 100. / cnt\n",
    "\n",
    "\n",
    "# compute the confusion matrix\n",
    "cm = confusion_matrix(y_true, y_pred)\n",
    "\n",
    "# plot the confusion matrix\n",
    "plt.imshow(cm, interpolation='nearest', cmap=plt.cm.Blues)\n",
    "plt.colorbar()\n",
    "plt.xticks(np.arange(6))\n",
    "plt.yticks(np.arange(6))\n",
    "plt.xlabel(\"Predicted label\")\n",
    "plt.ylabel(\"True label\")\n",
    "plt.title(\"Confusion Matrix\")\n",
    "plt.show()\n",
    "print(f\"Val accuracy:  {val_accuracy:6.2f} %, Val loss:  {val_loss:8.5f}% , Val_teach: {val_t_accuracy:8.5f}%\")"
   ]
  },
  {
   "cell_type": "markdown",
   "id": "ebc84f4c",
   "metadata": {},
   "source": [
    "### Berkley Mhad Processing"
   ]
  },
  {
   "cell_type": "code",
   "execution_count": 117,
   "id": "1f8d214f",
   "metadata": {},
   "outputs": [
    {
     "name": "stdout",
     "output_type": "stream",
     "text": [
      "/Users/tousif/Lstm_transformer/Fall_Detection_KD_Multimodal\n"
     ]
    }
   ],
   "source": [
    "cd '/Users/tousif/Lstm_transformer/Fall_Detection_KD_Multimodal'\n"
   ]
  },
  {
   "cell_type": "code",
   "execution_count": 118,
   "id": "6c9f606f",
   "metadata": {},
   "outputs": [],
   "source": [
    "file_paths = glob.glob('data/sensor/Accelerometer/Shimmer01/*')\n",
    "skl_path = \"/Users/tousif/Lstm_transformer/Fall_Detection_KD_Multimodal/data/sensor/SkeletalData/skl_\""
   ]
  },
  {
   "cell_type": "code",
   "execution_count": 121,
   "id": "54b3d57f",
   "metadata": {},
   "outputs": [],
   "source": [
    "total_sample = len(file_paths)\n",
    "training_samples = round(total_sample*.7)\n",
    "training_files = file_paths[:training_samples]\n",
    "val_files = file_paths[training_samples:]\n",
    "\n",
    "train_acc_dataset = np.zeros((training_samples,256, 3))\n",
    "val_acc_dataset = np.zeros((total_sample-training_samples,256,3))\n",
    "\n",
    "train_skl_dataset = np.zeros((training_samples,600,31, 3))\n",
    "val_skl_dataset = np.zeros((total_sample-training_samples,600,31,3))\n",
    "\n",
    "train_labels = np.zeros((training_samples))\n",
    "val_labels = np.zeros((total_sample-training_samples))"
   ]
  },
  {
   "cell_type": "code",
   "execution_count": 122,
   "id": "30c99782",
   "metadata": {},
   "outputs": [],
   "source": [
    "label_pattern = r'(a\\d+)'\n",
    "pattern = r's\\d+_a\\d+_r\\d+'\n",
    "new_skl_len = 600\n",
    "skl_joints = 31\n",
    "\n",
    "for idx,path in enumerate(file_paths):\n",
    "    \n",
    "    #loadding numpy data from csv \n",
    "    data = np.genfromtxt(path)\n",
    "    if np.size(data) == 0 :\n",
    "        continue\n",
    "    #taking the accelerometer data\n",
    "#     print(acc_data.shape)\n",
    "    acc_data = data[:, :3] \n",
    "    act_len = acc_data.shape[0]\n",
    "    channel = acc_data.shape[1]\n",
    "    label = int(re.findall(label_pattern, path)[0][-2:])\n",
    "    \n",
    "    \n",
    "    #interpolation \n",
    "    x = np.linspace(1, act_len, num=256)\n",
    "    xp = np.linspace(1, act_len, num= act_len)\n",
    "    interpolated_data = np.zeros((256,channel))\n",
    "    \n",
    "    for i in range(channel):\n",
    "        yp = acc_data[:, i]\n",
    "        axis_interpolated = np.interp(x, xp, yp)\n",
    "#         mean = np.mean(axis_interpolated)\n",
    "#         std = np.std(axis_interpolated)\n",
    "#         normalized = axis_interpolated - mean / std\n",
    "        interpolated_data[:, i] = axis_interpolated\n",
    "        \n",
    "#     scaler.fit(interpolated_data)\n",
    "#     normalized = scaler.transform(interpolated_data)\n",
    "    \n",
    "    ## Skeleton data loading\n",
    "    desp = re.findall(pattern, file_paths[idx])[0]\n",
    "    skl_file = skl_path+desp+'.bvh'\n",
    "    skl_data = bvh2arr(skl_file)\n",
    "    interp_skl = interpolate(skl_data, new_len = new_skl_len).reshape((new_skl_len, skl_joints,-1))\n",
    "    \n",
    "    \n",
    "    if idx < training_samples:\n",
    "        train_labels[idx] = label\n",
    "        train_skl_dataset[idx, :, :, :] = interp_skl\n",
    "        train_acc_dataset[idx, :, :] = interpolated_data\n",
    "    else: \n",
    "        val_labels[idx-training_samples] = label\n",
    "        val_skl_dataset[idx-training_samples, :, :, :] = interp_skl\n",
    "        val_acc_dataset[idx-training_samples,:, :] = interpolated_data\n",
    "        \n",
    "        "
   ]
  },
  {
   "cell_type": "code",
   "execution_count": 124,
   "id": "6ec7dadc",
   "metadata": {},
   "outputs": [
    {
     "name": "stdout",
     "output_type": "stream",
     "text": [
      "/Users/tousif/Lstm_transformer/data/berkley_mhad\n"
     ]
    }
   ],
   "source": [
    "cd /Users/tousif/Lstm_transformer/data/berkley_mhad/"
   ]
  },
  {
   "cell_type": "code",
   "execution_count": 125,
   "id": "e8b200fa",
   "metadata": {},
   "outputs": [],
   "source": [
    "#saving data\n",
    "np.savez('bmhad_mm_train', acc_data = train_acc_dataset, skl_data = train_skl_dataset, labels = train_labels)\n",
    "np.savez('bmhad_mm_val', acc_data = val_acc_dataset,skl_data=val_skl_dataset, labels = val_labels)"
   ]
  },
  {
   "cell_type": "markdown",
   "id": "d7007512",
   "metadata": {},
   "source": [
    "### Missing Data Interpolation\n",
    "\n"
   ]
  },
  {
   "cell_type": "code",
   "execution_count": 3,
   "id": "e0ef479d",
   "metadata": {},
   "outputs": [],
   "source": [
    "dataframe = pd.read_csv('/Users/tousif/Lstm_transformer/Fall_Detection_KD_Multimodal/data/s_aefb_phonewatch/aefbdrink.csv')"
   ]
  },
  {
   "cell_type": "markdown",
   "id": "9c8e5562",
   "metadata": {},
   "source": [
    "### Ploting watch data"
   ]
  },
  {
   "cell_type": "code",
   "execution_count": 43,
   "id": "d17246b5",
   "metadata": {},
   "outputs": [],
   "source": [
    "x_axis = np.linspace(1, watch_acc.shape[0],num = watch_acc.shape[0])\n",
    "#interpolation \n",
    "interpolated_data = dataframe.iloc[:, 12].interpolate(method = 'linear')\n",
    "# mean median imputation\n",
    "mean_value = dataframe.iloc[:,12].mean()\n",
    "imputed_data = dataframe.iloc[:,12].fillna(mean_value)\n",
    "\n"
   ]
  },
  {
   "cell_type": "markdown",
   "id": "4442a777",
   "metadata": {},
   "source": [
    "### Ploting the Interpolated Values"
   ]
  },
  {
   "cell_type": "code",
   "execution_count": 46,
   "id": "e90ac21f",
   "metadata": {},
   "outputs": [
    {
     "data": {
      "text/plain": [
       "<matplotlib.legend.Legend at 0x148dec760>"
      ]
     },
     "execution_count": 46,
     "metadata": {},
     "output_type": "execute_result"
    },
    {
     "data": {
      "image/png": "[encoded data removed]",
      "text/plain": [
       "<Figure size 1000x600 with 1 Axes>"
      ]
     },
     "metadata": {},
     "output_type": "display_data"
    }
   ],
   "source": [
    "\n",
    "plt.figure(figsize=(10, 6))\n",
    "plt.plot(x_axis , watch_acc[:, 0], label = 'Original')\n",
    "plt.plot(x_axis, imputed_data, label = 'Mean Imputed')\n",
    "plt.plot(x_axis , interpolated_data, label = 'Linear Interpolated')\n",
    "plt.legend()"
   ]
  },
  {
   "cell_type": "markdown",
   "id": "aa50cbe7",
   "metadata": {},
   "source": [
    "### Normalizing Data "
   ]
  },
  {
   "cell_type": "code",
   "execution_count": 41,
   "id": "0cce8254",
   "metadata": {},
   "outputs": [],
   "source": [
    "\n",
    "from sklearn.preprocessing import StandardScaler"
   ]
  },
  {
   "cell_type": "markdown",
   "id": "ff6f0824",
   "metadata": {},
   "source": [
    "### Scaling Data"
   ]
  },
  {
   "cell_type": "code",
   "execution_count": 39,
   "id": "9b581cb2",
   "metadata": {},
   "outputs": [],
   "source": [
    "tensor_inp = torch.tensor(train_dataset)\n",
    "normalized = F.normalize(tensor_inp, dim=0)"
   ]
  },
  {
   "cell_type": "code",
   "execution_count": 98,
   "id": "9c2ef937",
   "metadata": {},
   "outputs": [],
   "source": [
    "train_data = train_dataset[6, : ,:]\n",
    "# scaler = StandardScaler()\n",
    "# scaler.fit(train_data)\n",
    "# normalized = scaler.transform(train_data)"
   ]
  },
  {
   "cell_type": "markdown",
   "id": "b67a6990",
   "metadata": {},
   "source": [
    "### Berkley Visualization"
   ]
  },
  {
   "cell_type": "code",
   "execution_count": 99,
   "id": "b3d96668",
   "metadata": {},
   "outputs": [
    {
     "data": {
      "text/plain": [
       "[<matplotlib.lines.Line2D at 0x163a0a5b0>,\n",
       " <matplotlib.lines.Line2D at 0x163a0a820>,\n",
       " <matplotlib.lines.Line2D at 0x163b125b0>]"
      ]
     },
     "execution_count": 99,
     "metadata": {},
     "output_type": "execute_result"
    },
    {
     "data": {
      "image/png": "[encoded data removed]",
      "text/plain": [
       "<Figure size 640x480 with 2 Axes>"
      ]
     },
     "metadata": {},
     "output_type": "display_data"
    }
   ],
   "source": [
    "fig, axes = plt.subplots(nrows =1, ncols=2)\n",
    "axes[0].plot(x, train_data)\n",
    "# axes[1].plot(x, normalized, label='Interpolated')"
   ]
  },
  {
   "cell_type": "markdown",
   "id": "2fac733a",
   "metadata": {},
   "source": [
    "### Data Distribution Visualization"
   ]
  },
  {
   "cell_type": "code",
   "execution_count": 77,
   "id": "4337ccf1",
   "metadata": {},
   "outputs": [],
   "source": [
    "values,count = np.unique(train_labels ,return_counts=True)"
   ]
  },
  {
   "cell_type": "code",
   "execution_count": 97,
   "id": "157cbbae",
   "metadata": {},
   "outputs": [
    {
     "data": {
      "image/png": "[encoded data removed]",
      "text/plain": [
       "<Figure size 640x480 with 1 Axes>"
      ]
     },
     "metadata": {},
     "output_type": "display_data"
    }
   ],
   "source": [
    "plt.bar(x = values,data = count, height = count)\n",
    "plt.xlabel('Labels')\n",
    "plt.ylabel('Count')\n",
    "plt.show()"
   ]
  },
  {
   "cell_type": "markdown",
   "id": "93a65ea8",
   "metadata": {},
   "source": [
    "### Berkley Skeleton "
   ]
  },
  {
   "cell_type": "code",
   "execution_count": 14,
   "id": "8edf9e9f",
   "metadata": {},
   "outputs": [],
   "source": [
    "file_path = \"/Users/tousif/Lstm_transformer/Fall_Detection_KD_Multimodal/data/sensor/SkeletalData/skl_s01_a01_r02.bvh\""
   ]
  },
  {
   "cell_type": "code",
   "execution_count": 15,
   "id": "82b91b15",
   "metadata": {},
   "outputs": [],
   "source": [
    "with open(file=file_path, mode = 'r') as f:\n",
    "    bvh_data = Bvh(f.read())"
   ]
  },
  {
   "cell_type": "code",
   "execution_count": 16,
   "id": "83a553ca",
   "metadata": {},
   "outputs": [],
   "source": [
    "data = bvh_data.frames"
   ]
  },
  {
   "cell_type": "code",
   "execution_count": 17,
   "id": "d6dde968",
   "metadata": {},
   "outputs": [],
   "source": [
    "skl_data = np.array(data)"
   ]
  },
  {
   "cell_type": "code",
   "execution_count": 21,
   "id": "91dd40f6",
   "metadata": {},
   "outputs": [],
   "source": [
    "seq_len = skl_data.shape[0]"
   ]
  },
  {
   "cell_type": "code",
   "execution_count": 27,
   "id": "10434d2f",
   "metadata": {},
   "outputs": [],
   "source": [
    "xp = np.linspace(0, seq_len, num = seq_len)"
   ]
  },
  {
   "cell_type": "code",
   "execution_count": 28,
   "id": "a0abcbe8",
   "metadata": {},
   "outputs": [],
   "source": [
    "x = np.linspace(0, seq_len, num = 600)"
   ]
  },
  {
   "cell_type": "code",
   "execution_count": 41,
   "id": "4ed73552",
   "metadata": {},
   "outputs": [],
   "source": [
    "yp = skl_data[:,3]"
   ]
  },
  {
   "cell_type": "code",
   "execution_count": 42,
   "id": "6421c7d2",
   "metadata": {},
   "outputs": [],
   "source": [
    "new = np.interp(x, xp ,yp.astype(float))"
   ]
  },
  {
   "cell_type": "code",
   "execution_count": 72,
   "id": "170a69df",
   "metadata": {},
   "outputs": [
    {
     "ename": "NameError",
     "evalue": "name 'multiply' is not defined",
     "output_type": "error",
     "traceback": [
      "\u001b[0;31m---------------------------------------------------------------------------\u001b[0m",
      "\u001b[0;31mNameError\u001b[0m                                 Traceback (most recent call last)",
      "Cell \u001b[0;32mIn [72], line 2\u001b[0m\n\u001b[1;32m      1\u001b[0m numbers \u001b[38;5;241m=\u001b[39m [\u001b[38;5;241m2\u001b[39m, \u001b[38;5;241m3\u001b[39m, \u001b[38;5;241m4\u001b[39m]\n\u001b[0;32m----> 2\u001b[0m product \u001b[38;5;241m=\u001b[39m \u001b[43mmultiply\u001b[49m(\u001b[38;5;241m*\u001b[39mnumbers)\n\u001b[1;32m      3\u001b[0m \u001b[38;5;28mprint\u001b[39m(product)  \u001b[38;5;66;03m# Output: 24\u001b[39;00m\n",
      "\u001b[0;31mNameError\u001b[0m: name 'multiply' is not defined"
     ]
    }
   ],
   "source": [
    "numbers = [2, 3, 4]\n",
    "product = multiply(*numbers)\n",
    "print(product)  # Output: 24\n"
   ]
  },
  {
   "cell_type": "code",
   "execution_count": 66,
   "id": "cfbe6400",
   "metadata": {},
   "outputs": [
    {
     "ename": "TypeError",
     "evalue": "get_joint() missing 1 required positional argument: 'name'",
     "output_type": "error",
     "traceback": [
      "\u001b[0;31m---------------------------------------------------------------------------\u001b[0m",
      "\u001b[0;31mTypeError\u001b[0m                                 Traceback (most recent call last)",
      "Cell \u001b[0;32mIn [66], line 1\u001b[0m\n\u001b[0;32m----> 1\u001b[0m \u001b[43mbvh_data\u001b[49m\u001b[38;5;241;43m.\u001b[39;49m\u001b[43mget_joint\u001b[49m\u001b[43m(\u001b[49m\u001b[43m)\u001b[49m\n",
      "\u001b[0;31mTypeError\u001b[0m: get_joint() missing 1 required positional argument: 'name'"
     ]
    }
   ],
   "source": [
    "bvh_data.get_joint()"
   ]
  },
  {
   "cell_type": "markdown",
   "id": "4c6c10e7",
   "metadata": {},
   "source": [
    "### Visualizing Berkley Mhad Skeleton"
   ]
  },
  {
   "cell_type": "code",
   "execution_count": 49,
   "id": "e940a3fc",
   "metadata": {},
   "outputs": [
    {
     "data": {
      "image/png": "[encoded data removed]",
      "text/plain": [
       "<Figure size 640x480 with 2 Axes>"
      ]
     },
     "metadata": {},
     "output_type": "display_data"
    }
   ],
   "source": [
    "fig, axes = plt.subplots(nrows = 1 , ncols = 2)\n",
    "axes[0].plot(xp, yp.astype(float))\n",
    "axes[1].plot(x, new)\n",
    "plt.show()"
   ]
  },
  {
   "cell_type": "code",
   "execution_count": null,
   "id": "a26fa163",
   "metadata": {},
   "outputs": [],
   "source": []
  }
 ],
 "metadata": {
  "kernelspec": {
   "display_name": "Python 3 (ipykernel)",
   "language": "python",
   "name": "python3"
  },
  "language_info": {
   "codemirror_mode": {
    "name": "ipython",
    "version": 3
   },
   "file_extension": ".py",
   "mimetype": "text/x-python",
   "name": "python",
   "nbconvert_exporter": "python",
   "pygments_lexer": "ipython3",
   "version": "3.8.16"
  }
 },
 "nbformat": 4,
 "nbformat_minor": 5
}
