{
 "cells": [
  {
   "cell_type": "code",
   "execution_count": 9,
   "id": "5f1acc7a",
   "metadata": {},
   "outputs": [],
   "source": [
    "import scipy \n",
    "import glob\n",
    "import numpy as np"
   ]
  },
  {
   "cell_type": "code",
   "execution_count": 10,
   "id": "1ecdda59",
   "metadata": {},
   "outputs": [],
   "source": [
    "from sklearn.model_selection import KFold"
   ]
  },
  {
   "cell_type": "code",
   "execution_count": null,
   "id": "c94a581f",
   "metadata": {},
   "outputs": [],
   "source": [
    "skeleton_file_path = glob.glob('data/UTD_MAAD/Skeleton/*.mat')\n",
    "inertia_file_path = glob.glob('data/UTD_MAAD/Interia/*.mat')\n",
    "\n",
    "mat.file = scipy.io.loadmat('data/UTD_MAAD/In')"
   ]
  },
  {
   "cell_type": "code",
   "execution_count": null,
   "id": "080cc850",
   "metadata": {},
   "outputs": [],
   "source": [
    "!pip list "
   ]
  },
  {
   "cell_type": "code",
   "execution_count": 3,
   "id": "032565a9",
   "metadata": {},
   "outputs": [],
   "source": [
    "x = np.array([[1,2], [3,4], [1,2], [3,4]])"
   ]
  },
  {
   "cell_type": "code",
   "execution_count": null,
   "id": "6a784b08",
   "metadata": {},
   "outputs": [],
   "source": [
    "x.shape"
   ]
  },
  {
   "cell_type": "code",
   "execution_count": 21,
   "id": "60f8975b",
   "metadata": {},
   "outputs": [],
   "source": [
    "x = np.random.rand(90, 4, 3)"
   ]
  },
  {
   "cell_type": "code",
   "execution_count": 8,
   "id": "dc6f746c",
   "metadata": {},
   "outputs": [
    {
     "data": {
      "text/plain": [
       "(3, 4, 3)"
      ]
     },
     "execution_count": 8,
     "metadata": {},
     "output_type": "execute_result"
    }
   ],
   "source": [
    "x.shape"
   ]
  },
  {
   "cell_type": "code",
   "execution_count": 22,
   "id": "c251fb67",
   "metadata": {},
   "outputs": [],
   "source": [
    "kf = KFold(n_splits = 3)"
   ]
  },
  {
   "cell_type": "code",
   "execution_count": 23,
   "id": "16371d7e",
   "metadata": {},
   "outputs": [],
   "source": [
    "a = kf.split(x)"
   ]
  },
  {
   "cell_type": "code",
   "execution_count": 25,
   "id": "ecc7f2ca",
   "metadata": {},
   "outputs": [],
   "source": [
    " next_ind = next(a)"
   ]
  },
  {
   "cell_type": "code",
   "execution_count": 31,
   "id": "cd1c3427",
   "metadata": {},
   "outputs": [],
   "source": [
    "train_index, test_index = next(a)"
   ]
  },
  {
   "cell_type": "code",
   "execution_count": 32,
   "id": "b9746fc0",
   "metadata": {},
   "outputs": [
    {
     "data": {
      "text/plain": [
       "(60,)"
      ]
     },
     "execution_count": 32,
     "metadata": {},
     "output_type": "execute_result"
    }
   ],
   "source": [
    "train_index.shape"
   ]
  },
  {
   "cell_type": "code",
   "execution_count": null,
   "id": "d4f2d302",
   "metadata": {},
   "outputs": [],
   "source": []
  }
 ],
 "metadata": {
  "kernelspec": {
   "display_name": "Python 3 (ipykernel)",
   "language": "python",
   "name": "python3"
  },
  "language_info": {
   "codemirror_mode": {
    "name": "ipython",
    "version": 3
   },
   "file_extension": ".py",
   "mimetype": "text/x-python",
   "name": "python",
   "nbconvert_exporter": "python",
   "pygments_lexer": "ipython3",
   "version": "3.8.16"
  }
 },
 "nbformat": 4,
 "nbformat_minor": 5
}
